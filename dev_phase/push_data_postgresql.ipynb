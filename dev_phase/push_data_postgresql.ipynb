{
 "cells": [
  {
   "cell_type": "code",
   "execution_count": 3,
   "id": "8fe5ccfe",
   "metadata": {},
   "outputs": [],
   "source": [
    "import pandas as pd\n",
    "import psycopg2\n",
    "from io import StringIO\n",
    "import requests"
   ]
  },
  {
   "cell_type": "code",
   "execution_count": 4,
   "id": "7c4d9f9b",
   "metadata": {},
   "outputs": [
    {
     "name": "stdout",
     "output_type": "stream",
     "text": [
      "<class 'pandas.core.frame.DataFrame'>\n",
      "RangeIndex: 60 entries, 0 to 59\n",
      "Data columns (total 4 columns):\n",
      " #   Column     Non-Null Count  Dtype  \n",
      "---  ------     --------------  -----  \n",
      " 0   id         60 non-null     int64  \n",
      " 1   name       60 non-null     object \n",
      " 2   longitude  60 non-null     float64\n",
      " 3   latitude   60 non-null     float64\n",
      "dtypes: float64(2), int64(1), object(1)\n",
      "memory usage: 2.0+ KB\n"
     ]
    }
   ],
   "source": [
    "df_city = pd.read_csv('city.csv')\n",
    "df_city.info()"
   ]
  },
  {
   "cell_type": "code",
   "execution_count": 5,
   "id": "644771f1",
   "metadata": {},
   "outputs": [],
   "source": [
    "df_city = df_city.rename(columns={\n",
    "    'id': 'city_id',\n",
    "    'name': 'city_name'\n",
    "})"
   ]
  },
  {
   "cell_type": "code",
   "execution_count": 8,
   "id": "91d56553",
   "metadata": {},
   "outputs": [],
   "source": [
    "df_city = df_city[['city_id', 'city_name', 'longitude', 'latitude']]"
   ]
  },
  {
   "cell_type": "code",
   "execution_count": 6,
   "id": "c305ba12",
   "metadata": {},
   "outputs": [],
   "source": [
    "# kết nối database\n",
    "conn = psycopg2.connect(\n",
    "    host=\"103.133.224.14\",\n",
    "    database=\"health_twin\",\n",
    "    user=\"postgres\",\n",
    "    password=\"kid14124869\",\n",
    "    port=5432\n",
    ")"
   ]
  },
  {
   "cell_type": "code",
   "execution_count": 7,
   "id": "6402539a",
   "metadata": {},
   "outputs": [],
   "source": [
    "cur = conn.cursor()\n",
    "\n",
    "# Sử dụng copy_from để load nhanh\n",
    "buffer = StringIO()\n",
    "df_city.to_csv(buffer, index=False, header=False)\n",
    "buffer.seek(0)\n",
    "cur.copy_from(buffer, 'city', sep=',')\n",
    "conn.commit()\n",
    "cur.close()\n",
    "conn.close()"
   ]
  },
  {
   "cell_type": "code",
   "execution_count": 13,
   "id": "47eb6661",
   "metadata": {},
   "outputs": [],
   "source": [
    "conn.rollback()  # hủy transaction lỗi"
   ]
  }
 ],
 "metadata": {
  "kernelspec": {
   "display_name": "health_twin_env",
   "language": "python",
   "name": "python3"
  },
  "language_info": {
   "codemirror_mode": {
    "name": "ipython",
    "version": 3
   },
   "file_extension": ".py",
   "mimetype": "text/x-python",
   "name": "python",
   "nbconvert_exporter": "python",
   "pygments_lexer": "ipython3",
   "version": "3.13.2"
  }
 },
 "nbformat": 4,
 "nbformat_minor": 5
}
