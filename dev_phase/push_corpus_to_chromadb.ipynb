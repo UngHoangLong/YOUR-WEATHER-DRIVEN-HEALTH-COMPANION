{
 "cells": [
  {
   "cell_type": "code",
   "execution_count": 68,
   "id": "871343b4",
   "metadata": {},
   "outputs": [],
   "source": [
    "from dotenv import load_dotenv\n",
    "import pdfplumber\n",
    "import re\n",
    "import pandas as pd\n",
    "import os\n",
    "import trafilatura\n",
    "import spacy\n"
   ]
  },
  {
   "cell_type": "code",
   "execution_count": 61,
   "id": "4b67bbfb",
   "metadata": {},
   "outputs": [
    {
     "name": "stdout",
     "output_type": "stream",
     "text": [
      "<class 'pandas.core.frame.DataFrame'>\n",
      "RangeIndex: 6 entries, 0 to 5\n",
      "Data columns (total 2 columns):\n",
      " #   Column       Non-Null Count  Dtype \n",
      "---  ------       --------------  ----- \n",
      " 0   source_name  6 non-null      object\n",
      " 1   url          6 non-null      object\n",
      "dtypes: object(2)\n",
      "memory usage: 228.0+ bytes\n"
     ]
    }
   ],
   "source": [
    "heat = pd.read_excel('corpus/heat.xlsx')\n",
    "heat.info()"
   ]
  },
  {
   "cell_type": "code",
   "execution_count": 62,
   "id": "efbac4eb",
   "metadata": {},
   "outputs": [
    {
     "data": {
      "text/html": [
       "<div>\n",
       "<style scoped>\n",
       "    .dataframe tbody tr th:only-of-type {\n",
       "        vertical-align: middle;\n",
       "    }\n",
       "\n",
       "    .dataframe tbody tr th {\n",
       "        vertical-align: top;\n",
       "    }\n",
       "\n",
       "    .dataframe thead th {\n",
       "        text-align: right;\n",
       "    }\n",
       "</style>\n",
       "<table border=\"1\" class=\"dataframe\">\n",
       "  <thead>\n",
       "    <tr style=\"text-align: right;\">\n",
       "      <th></th>\n",
       "      <th>source_name</th>\n",
       "      <th>url</th>\n",
       "    </tr>\n",
       "  </thead>\n",
       "  <tbody>\n",
       "    <tr>\n",
       "      <th>0</th>\n",
       "      <td>id1</td>\n",
       "      <td>https://heathealth.info/heat-and-health/?utm_s...</td>\n",
       "    </tr>\n",
       "    <tr>\n",
       "      <th>1</th>\n",
       "      <td>id2</td>\n",
       "      <td>https://www.nature.com/articles/s43247-024-019...</td>\n",
       "    </tr>\n",
       "    <tr>\n",
       "      <th>2</th>\n",
       "      <td>id3</td>\n",
       "      <td>https://apnews.com/article/deadly-heat-humidit...</td>\n",
       "    </tr>\n",
       "    <tr>\n",
       "      <th>3</th>\n",
       "      <td>id4</td>\n",
       "      <td>https://www.who.int/news-room/fact-sheets/deta...</td>\n",
       "    </tr>\n",
       "    <tr>\n",
       "      <th>4</th>\n",
       "      <td>id5</td>\n",
       "      <td>https://heat.gov/</td>\n",
       "    </tr>\n",
       "    <tr>\n",
       "      <th>5</th>\n",
       "      <td>id6</td>\n",
       "      <td>https://pmc.ncbi.nlm.nih.gov/articles/PMC10231...</td>\n",
       "    </tr>\n",
       "  </tbody>\n",
       "</table>\n",
       "</div>"
      ],
      "text/plain": [
       "  source_name                                                url\n",
       "0         id1  https://heathealth.info/heat-and-health/?utm_s...\n",
       "1         id2  https://www.nature.com/articles/s43247-024-019...\n",
       "2         id3  https://apnews.com/article/deadly-heat-humidit...\n",
       "3         id4  https://www.who.int/news-room/fact-sheets/deta...\n",
       "4         id5                                  https://heat.gov/\n",
       "5         id6  https://pmc.ncbi.nlm.nih.gov/articles/PMC10231..."
      ]
     },
     "execution_count": 62,
     "metadata": {},
     "output_type": "execute_result"
    }
   ],
   "source": [
    "heat.head(10)"
   ]
  },
  {
   "cell_type": "code",
   "execution_count": 63,
   "id": "b3714825",
   "metadata": {},
   "outputs": [
    {
     "name": "stdout",
     "output_type": "stream",
     "text": [
      "✅ Saved: corpus/heat/id1.txt\n",
      "❌ Không fetch được URL: https://www.nature.com/articles/s43247-024-01930-6?utm_source=chatgpt.com\n",
      "✅ Saved: corpus/heat/id3.txt\n",
      "✅ Saved: corpus/heat/id4.txt\n",
      "❌ Không fetch được URL: https://heat.gov/\n",
      "✅ Saved: corpus/heat/id6.txt\n"
     ]
    }
   ],
   "source": [
    "# Tạo thư mục output nếu chưa tồn tại\n",
    "output_dir = \"corpus/heat\"\n",
    "os.makedirs(output_dir, exist_ok=True)\n",
    "\n",
    "for _, row in heat.iterrows():\n",
    "    source_id = row[\"source_name\"]   # vd: id1, id2, ...\n",
    "    url = row[\"url\"]\n",
    "\n",
    "    try:\n",
    "        downloaded = trafilatura.fetch_url(url)\n",
    "        if downloaded:\n",
    "            text = trafilatura.extract(downloaded)\n",
    "            if text:\n",
    "                file_path = os.path.join(output_dir, f\"{source_id}.txt\")\n",
    "                with open(file_path, \"w\", encoding=\"utf-8\") as f:\n",
    "                    f.write(text)\n",
    "                print(f\"✅ Saved: {file_path}\")\n",
    "            else:\n",
    "                print(f\"⚠️ Không extract được text từ {url}\")\n",
    "        else:\n",
    "            print(f\"❌ Không fetch được URL: {url}\")\n",
    "    except Exception as e:\n",
    "        print(f\"⚠️ Lỗi với {url}: {e}\")"
   ]
  },
  {
   "cell_type": "code",
   "execution_count": 64,
   "id": "0dd39a80",
   "metadata": {},
   "outputs": [],
   "source": [
    "def clean_text(text: str) -> str:\n",
    "    \"\"\"\n",
    "    Tiền xử lý text:\n",
    "    - Xóa khoảng trắng thừa\n",
    "    - Giữ nguyên bullet (- ) và heading\n",
    "    \"\"\"\n",
    "    text = text.strip()\n",
    "    text = re.sub(r\"\\s+\", \" \", text)        # chuẩn hóa khoảng trắng\n",
    "    return text\n"
   ]
  },
  {
   "cell_type": "code",
   "execution_count": 65,
   "id": "806efe51",
   "metadata": {},
   "outputs": [
    {
     "name": "stdout",
     "output_type": "stream",
     "text": [
      "Hoàn tất xử lý toàn bộ file trong corpus/heat/\n"
     ]
    }
   ],
   "source": [
    "# Thư mục chứa file txt\n",
    "folder = \"corpus/heat\"\n",
    "\n",
    "for filename in os.listdir(folder):\n",
    "    if filename.endswith(\".txt\"):\n",
    "        filepath = os.path.join(folder, filename)\n",
    "        with open(filepath, \"r\", encoding=\"utf-8\") as f:\n",
    "            content = f.read()\n",
    "        \n",
    "        cleaned = clean_text(content)\n",
    "\n",
    "        # Ghi đè lại file cũ\n",
    "        with open(filepath, \"w\", encoding=\"utf-8\") as f:\n",
    "            f.write(cleaned)\n",
    "\n",
    "print(\"Hoàn tất xử lý toàn bộ file trong corpus/heat/\")"
   ]
  },
  {
   "cell_type": "markdown",
   "id": "2f55c035",
   "metadata": {},
   "source": [
    "---\n",
    "# Chunking"
   ]
  },
  {
   "cell_type": "code",
   "execution_count": 103,
   "id": "2adb7555",
   "metadata": {},
   "outputs": [],
   "source": [
    "input_dir = \"corpus/heat\"\n",
    "excel_file = \"corpus/heat.xlsx\"\n",
    "output_csv = \"corpus/heat_chunks.csv\""
   ]
  },
  {
   "cell_type": "code",
   "execution_count": 104,
   "id": "42245bb8",
   "metadata": {},
   "outputs": [],
   "source": [
    "# Load mapping source_name -> url\n",
    "df_map = pd.read_excel(excel_file)\n",
    "mapping = dict(zip(df_map[\"source_name\"], df_map[\"url\"]))\n",
    "\n",
    "nlp = spacy.load(\"en_core_web_sm\")\n",
    "\n",
    "def split_into_sentences(text: str):\n",
    "    \"\"\"Tách văn bản thành danh sách câu\"\"\"\n",
    "    doc = nlp(text)\n",
    "    sentences = [sent.text.strip() for sent in doc.sents if sent.text.strip()]\n",
    "    return sentences\n",
    "\n",
    "def chunk_sentences(sentences, chunk_size=5, overlap=2):\n",
    "    \"\"\"\n",
    "    Gom n câu thành 1 chunk, overlap k câu.\n",
    "    Giữ luôn cả phần dư cuối cùng.\n",
    "    \"\"\"\n",
    "    chunks = []\n",
    "    i = 0\n",
    "    while i < len(sentences):\n",
    "        chunk = sentences[i:i+chunk_size]\n",
    "        if not chunk:\n",
    "            break\n",
    "        chunks.append(\" \".join(chunk))\n",
    "        if i + chunk_size >= len(sentences):\n",
    "            break\n",
    "        i += chunk_size - overlap\n",
    "    return chunks"
   ]
  },
  {
   "cell_type": "code",
   "execution_count": 105,
   "id": "c20e1114",
   "metadata": {},
   "outputs": [
    {
     "name": "stdout",
     "output_type": "stream",
     "text": [
      "✅ Saved 114 chunks to corpus/heat_chunks.csv\n"
     ]
    }
   ],
   "source": [
    "all_data = []\n",
    "# Duyệt qua từng file txt\n",
    "for fname in os.listdir(input_dir):\n",
    "    if fname.endswith(\".txt\"):\n",
    "        source_name = os.path.splitext(fname)[0]\n",
    "        url = mapping.get(source_name, None)\n",
    "        if url is None:\n",
    "            print(f\"⚠️ Không tìm thấy URL mapping cho {fname}, bỏ qua.\")\n",
    "            continue\n",
    "        \n",
    "        try:\n",
    "            with open(os.path.join(input_dir, fname), \"r\", encoding=\"utf-8\", errors=\"ignore\") as f:\n",
    "                text = f.read()\n",
    "        except Exception as e:\n",
    "            print(f\"❌ Lỗi đọc file {fname}: {e}\")\n",
    "            continue\n",
    "        \n",
    "        sentences = split_into_sentences(text)\n",
    "        if not sentences:\n",
    "            print(f\"⚠️ Không tách được câu trong {fname}\")\n",
    "            continue\n",
    "        \n",
    "        chunks = chunk_sentences(sentences, chunk_size=5, overlap=2)\n",
    "        \n",
    "        for c in chunks:\n",
    "            all_data.append({\"url\": url, \"chunk\": c})\n",
    "\n",
    "# Xuất CSV\n",
    "df_out = pd.DataFrame(all_data)\n",
    "df_out.to_csv(output_csv, index=False, encoding=\"utf-8\")\n",
    "print(f\"✅ Saved {len(df_out)} chunks to {output_csv}\")"
   ]
  },
  {
   "cell_type": "markdown",
   "id": "667bc2ad",
   "metadata": {},
   "source": [
    "---\n",
    "# Checking"
   ]
  },
  {
   "cell_type": "code",
   "execution_count": null,
   "id": "d1865bba",
   "metadata": {},
   "outputs": [],
   "source": [
    "respiratory\n",
    "allergy\n",
    "heat\n",
    "cardiovascular\n"
   ]
  },
  {
   "cell_type": "code",
   "execution_count": 91,
   "id": "df056585",
   "metadata": {},
   "outputs": [
    {
     "name": "stdout",
     "output_type": "stream",
     "text": [
      "<class 'pandas.core.frame.DataFrame'>\n",
      "RangeIndex: 274 entries, 0 to 273\n",
      "Data columns (total 2 columns):\n",
      " #   Column  Non-Null Count  Dtype \n",
      "---  ------  --------------  ----- \n",
      " 0   url     274 non-null    object\n",
      " 1   chunk   274 non-null    object\n",
      "dtypes: object(2)\n",
      "memory usage: 4.4+ KB\n"
     ]
    }
   ],
   "source": [
    "check = pd.read_csv('corpus/respiratory_chunks.csv')\n",
    "check.info()"
   ]
  }
 ],
 "metadata": {
  "kernelspec": {
   "display_name": "Python 3",
   "language": "python",
   "name": "python3"
  },
  "language_info": {
   "codemirror_mode": {
    "name": "ipython",
    "version": 3
   },
   "file_extension": ".py",
   "mimetype": "text/x-python",
   "name": "python",
   "nbconvert_exporter": "python",
   "pygments_lexer": "ipython3",
   "version": "3.11.11"
  }
 },
 "nbformat": 4,
 "nbformat_minor": 5
}
