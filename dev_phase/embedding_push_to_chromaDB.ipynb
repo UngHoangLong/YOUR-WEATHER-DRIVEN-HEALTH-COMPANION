{
 "cells": [
  {
   "cell_type": "markdown",
   "id": "d5f41934",
   "metadata": {},
   "source": [
    "---\n",
    "# Tạo collection trên chromaDB"
   ]
  },
  {
   "cell_type": "code",
   "execution_count": 34,
   "id": "65baa9a6",
   "metadata": {},
   "outputs": [],
   "source": [
    "from google.genai import types\n",
    "import pandas as pd\n",
    "from google import genai\n",
    "import chromadb\n",
    "from chromadb.config import Settings\n",
    "import os\n",
    "import sys\n",
    "import numpy as np\n",
    "from dotenv import load_dotenv, find_dotenv\n",
    "from numpy.linalg import norm\n",
    "from typing import List\n",
    "import time"
   ]
  },
  {
   "cell_type": "code",
   "execution_count": 11,
   "id": "8fcfef41",
   "metadata": {},
   "outputs": [
    {
     "name": "stderr",
     "output_type": "stream",
     "text": [
      "Python(31416) MallocStackLogging: can't turn off malloc stack logging because it was not enabled.\n"
     ]
    },
    {
     "name": "stdout",
     "output_type": "stream",
     "text": [
      "Name: chromadb\n",
      "Version: 1.0.20\n",
      "Summary: Chroma.\n",
      "Home-page: https://github.com/chroma-core/chroma\n",
      "Author: \n",
      "Author-email: Jeff Huber <jeff@trychroma.com>, Anton Troynikov <anton@trychroma.com>\n",
      "License: \n",
      "Location: /usr/local/lib/python3.11/site-packages\n",
      "Requires: bcrypt, build, grpcio, httpx, importlib-resources, jsonschema, kubernetes, mmh3, numpy, onnxruntime, opentelemetry-api, opentelemetry-exporter-otlp-proto-grpc, opentelemetry-sdk, orjson, overrides, posthog, pybase64, pydantic, pypika, pyyaml, rich, tenacity, tokenizers, tqdm, typer, typing-extensions, uvicorn\n",
      "Required-by: \n",
      "Note: you may need to restart the kernel to use updated packages.\n"
     ]
    }
   ],
   "source": [
    "pip show chromadb"
   ]
  },
  {
   "cell_type": "markdown",
   "id": "18a76164",
   "metadata": {},
   "source": [
    "---\n",
    "# embedding + push"
   ]
  },
  {
   "cell_type": "code",
   "execution_count": null,
   "id": "85eb9416",
   "metadata": {},
   "outputs": [],
   "source": [
    "# Load environment variables from .env file\n",
    "load_dotenv('/Users/macbook/Desktop/BangA_DSC2025/.env')\n",
    "\n",
    "# --- 1. Cấu hình ChromaDB và Gemini API ---\n",
    "try:\n",
    "    # Lấy ChromaDB Host và Port từ biến môi trường\n",
    "    # Hoặc sử dụng giá trị mặc định nếu không có\n",
    "    CHROMA_SERVER_HOST = os.environ.get(\"CHROMA_SERVER_HOST\")\n",
    "    CHROMA_SERVER_PORT = int(os.environ.get(\"CHROMA_SERVER_PORT\", 8000))\n",
    "    \n",
    "    # Kết nối đến máy chủ ChromaDB trên VPS\n",
    "    client_chroma = chromadb.HttpClient(\n",
    "        host=CHROMA_SERVER_HOST,\n",
    "        port=CHROMA_SERVER_PORT\n",
    "    )\n",
    "\n",
    "    # In ra thông tin kết nối để kiểm tra\n",
    "    print(f\"✅ Đã kết nối thành công tới ChromaDB server tại: {CHROMA_SERVER_HOST}:{CHROMA_SERVER_PORT}\")\n",
    "    print(f\"Số collection hiện có: {client_chroma.count_collections()}\")\n",
    "\n",
    "    # Lấy một danh sách tất cả các Gemini API Key từ biến môi trường\n",
    "    gemini_api_keys: List[str] = [\n",
    "        os.environ[key]\n",
    "        for key in os.environ\n",
    "        if key.startswith(\"API_GEMINI_\")\n",
    "    ]\n",
    "    gemini_api_keys = [os.getenv(f\"API_GEMINI_{i}\") for i in range(0, 12)]\n",
    "    gemini_api_keys = [key for key in gemini_api_keys if key]  # Lọc key hợp lệ\n",
    "    if not gemini_api_keys:\n",
    "        raise ValueError(\"Không tìm thấy Gemini API keys nào bắt đầu bằng 'API_GEMINI_' trong biến môi trường.\")\n",
    "    \n",
    "    print(f\"✅ Đã cấu hình {len(gemini_api_keys)} Gemini API keys.\")\n",
    "\n",
    "except Exception as e:\n",
    "    print(f\"❌ Lỗi cấu hình hoặc kết nối: {e}\", file=sys.stderr)\n",
    "    sys.exit(1)\n"
   ]
  },
  {
   "cell_type": "code",
   "execution_count": null,
   "id": "e3cbb870",
   "metadata": {},
   "outputs": [],
   "source": [
    "# nếu chưa có collection thì tạo lại\n",
    "collection_respiratory = client_chroma.create_collection(name=\"respiratory\", embedding_function=None)\n",
    "collection_allergy = client_chroma.create_collection(name=\"allergy\", embedding_function=None)\n",
    "collection_heat = client_chroma.create_collection(name=\"heat\", embedding_function=None)\n",
    "collection_cardiovascular = client_chroma.create_collection(name=\"cardiovascular\", embedding_function=None)\n",
    "\n",
    "print(\"Collections created successfully:\")\n",
    "print(collection_respiratory.name, collection_allergy.name, collection_heat.name, collection_cardiovascular.name)\n"
   ]
  },
  {
   "cell_type": "code",
   "execution_count": 54,
   "id": "1e6b2a7e",
   "metadata": {},
   "outputs": [
    {
     "name": "stdout",
     "output_type": "stream",
     "text": [
      "\n",
      "📋 Đã load 274 chunks từ DataFrame.\n",
      "Dữ liệu ví dụ:\n",
      "                                                   url  \\\n",
      "0    https://www.sriramakrishnahospital.com/blog/pu...   \n",
      "1    https://www.sriramakrishnahospital.com/blog/pu...   \n",
      "2    https://www.sriramakrishnahospital.com/blog/pu...   \n",
      "3    https://www.sriramakrishnahospital.com/blog/pu...   \n",
      "4    https://www.sriramakrishnahospital.com/blog/pu...   \n",
      "..                                                 ...   \n",
      "269  https://www.epa.gov/pmcourse/patient-exposure-...   \n",
      "270  https://www.weather.gov/safety/airquality?utm_...   \n",
      "271  https://www.weather.gov/safety/airquality?utm_...   \n",
      "272  https://www.weather.gov/safety/airquality?utm_...   \n",
      "273  https://www.weather.gov/safety/airquality?utm_...   \n",
      "\n",
      "                                                 chunk  \n",
      "0    Usually, respiratory disease will affect most ...  \n",
      "1    Further, this blog will unclose how summer hea...  \n",
      "2    Further, let’s see how summer heat affects res...  \n",
      "3    Automatically you will breathe faster, which b...  \n",
      "4    Humidity and mold growth: - High humidity will...  \n",
      "..                                                 ...  \n",
      "269  “Patient Education Tools” also has downloadabl...  \n",
      "270  The National Oceanic and Atmospheric Administr...  \n",
      "271  Costs from air pollution-related illness are e...  \n",
      "272  Ground-level ozone (O3) is a product of nitrog...  \n",
      "273  Particulate matter (PM), or airborne particles...  \n",
      "\n",
      "[274 rows x 2 columns]\n"
     ]
    }
   ],
   "source": [
    "# --- 2. Chuẩn bị dữ liệu từ DataFrame (ví dụ) ---\n",
    "\n",
    "doc_chunks = pd.read_csv('corpus/respiratory_chunks.csv')\n",
    "\n",
    "\n",
    "print(f\"\\n📋 Đã load {len(doc_chunks)} chunks từ DataFrame.\")\n",
    "print(\"Dữ liệu ví dụ:\")\n",
    "print(doc_chunks)"
   ]
  },
  {
   "cell_type": "code",
   "execution_count": 55,
   "id": "95b7c82b",
   "metadata": {},
   "outputs": [
    {
     "name": "stdout",
     "output_type": "stream",
     "text": [
      "\n",
      "🎯 Đã kết nối tới collection: 'respiratory'\n"
     ]
    }
   ],
   "source": [
    "# --- 3. Chọn và kết nối đến Collection ---\n",
    "# lựa chọn collection\n",
    "COLLECTION_NAME = \"respiratory\"\n",
    "try:\n",
    "    collection = client_chroma.get_or_create_collection(name=COLLECTION_NAME, embedding_function=None)\n",
    "    print(f\"\\n🎯 Đã kết nối tới collection: '{collection.name}'\")\n",
    "except Exception as e:\n",
    "    print(f\"❌ Lỗi khi kết nối tới collection '{COLLECTION_NAME}': {e}\", file=sys.stderr)\n",
    "    sys.exit(1)"
   ]
  },
  {
   "cell_type": "code",
   "execution_count": 56,
   "id": "88d6ef2f",
   "metadata": {},
   "outputs": [
    {
     "name": "stdout",
     "output_type": "stream",
     "text": [
      "Collection(name=respiratory)\n"
     ]
    }
   ],
   "source": [
    "print(collection)"
   ]
  },
  {
   "cell_type": "code",
   "execution_count": null,
   "id": "541d75d1",
   "metadata": {},
   "outputs": [],
   "source": [
    "# --- 4. Thực hiện Embedding và Add vào Collection ---\n",
    "print(\"\\n🚀 Bắt đầu tạo embedding và tải dữ liệu lên ChromaDB...\")\n",
    "\n",
    "# Tạo danh sách để lưu trữ dữ liệu hàng loạt\n",
    "documents_to_add = []\n",
    "embeddings_to_add = []\n",
    "metadatas_to_add = []\n",
    "ids_to_add = []\n",
    "\n",
    "api_key_index = 0\n",
    "chunk_index = 0\n",
    "while chunk_index < len(doc_chunks):\n",
    "    # Cấu hình Gemini API với key hiện tại trong danh sách\n",
    "    current_api_key = gemini_api_keys[api_key_index % len(gemini_api_keys)]\n",
    "    print('đang dùng api_key: ', current_api_key)\n",
    "\n",
    "    client_genai = genai.Client(api_key=current_api_key)\n",
    "    row = doc_chunks.iloc[chunk_index]\n",
    "    text_chunk = row['chunk']\n",
    "    source_url = row['url']\n",
    "    doc_id = f\"doc_{chunk_index}\"\n",
    "\n",
    "    try:\n",
    "        print(f\"Đang xử lý chunk {chunk_index+1}/{len(doc_chunks)} với API Key thứ {api_key_index % len(gemini_api_keys) + 1}...\")\n",
    "        \n",
    "        # Tạo embedding với Gemini API\n",
    "        result = client_genai.models.embed_content(\n",
    "            model=\"gemini-embedding-001\",\n",
    "            contents=text_chunk,\n",
    "            config=types.EmbedContentConfig(task_type=\"RETRIEVAL_DOCUMENT\", output_dimensionality=3072)\n",
    "        )\n",
    "\n",
    "        # Trích xuất và chuẩn hoá embedding\n",
    "        [embedding_obj] = result.embeddings\n",
    "        embedding_values_np = np.array(embedding_obj.values)\n",
    "        normed_embedding = embedding_values_np / np.linalg.norm(embedding_values_np)\n",
    "        \n",
    "        # Thêm vào danh sách hàng loạt\n",
    "        documents_to_add.append(text_chunk)\n",
    "        embeddings_to_add.append(normed_embedding.tolist())\n",
    "        metadatas_to_add.append({\"source\": source_url})\n",
    "        ids_to_add.append(doc_id)\n",
    "        \n",
    "        # Tăng chỉ số chunk và tạm dừng để tránh rate limit (RPM)\n",
    "        chunk_index += 1\n",
    "        time.sleep(1)\n",
    "\n",
    "    except Exception as e:\n",
    "        print(f\"❌ Lỗi khi xử lý chunk '{doc_id}': {e}\", file=sys.stderr)\n",
    "        if \"quota\" in str(e).lower() or \"rate limit\" in str(e).lower():\n",
    "            # Nếu gặp lỗi giới hạn tốc độ, chuyển sang API key tiếp theo\n",
    "            print(f\"Giới hạn tốc độ đã đạt. Chuyển sang API Key kế tiếp...\")\n",
    "            api_key_index += 1\n",
    "            if api_key_index >= len(gemini_api_keys):\n",
    "                print(\"Hết tất cả các API keys. Vui lòng thử lại sau.\")\n",
    "                break # Dừng vòng lặp nếu hết keys\n",
    "        else:\n",
    "            # Nếu là lỗi khác, bỏ qua chunk và tiếp tục\n",
    "            print(\"Gặp lỗi không liên quan đến giới hạn tốc độ. Bỏ qua chunk này.\")\n",
    "            chunk_index += 1\n",
    "            \n",
    "# Thêm tất cả dữ liệu vào collection trong một lần\n",
    "if documents_to_add:\n",
    "    try:\n",
    "        collection.add(\n",
    "            documents=documents_to_add,\n",
    "            embeddings=embeddings_to_add,\n",
    "            metadatas=metadatas_to_add,\n",
    "            ids=ids_to_add\n",
    "        )\n",
    "        print(f\"\\n✅ Đã tải lên {len(documents_to_add)} chunks thành công!\")\n",
    "    except Exception as e:\n",
    "        print(f\"❌ Lỗi khi tải dữ liệu lên ChromaDB: {e}\", file=sys.stderr)\n",
    "else:\n",
    "    print(\"\\n⚠️ Không có chunk nào được xử lý thành công để tải lên.\")\n",
    "\n",
    "print(\"\\n🎉 Hoàn tất quá trình.\")"
   ]
  },
  {
   "cell_type": "code",
   "execution_count": 31,
   "id": "e9e407d4",
   "metadata": {},
   "outputs": [
    {
     "name": "stdout",
     "output_type": "stream",
     "text": [
      "✅ Collection có tổng cộng 274 records.\n"
     ]
    }
   ],
   "source": [
    "count = collection.count()\n",
    "print(f\"✅ Collection có tổng cộng {count} records.\")"
   ]
  },
  {
   "cell_type": "code",
   "execution_count": 32,
   "id": "61c0a6e2",
   "metadata": {},
   "outputs": [],
   "source": [
    "top_records = collection.peek(limit=5)"
   ]
  },
  {
   "cell_type": "code",
   "execution_count": null,
   "id": "b51ed750",
   "metadata": {},
   "outputs": [],
   "source": [
    "print(\"\\n🔍 Top 5 records trong collection:\")\n",
    "for doc, metadata, doc_id, embed in zip(top_records['documents'], top_records['metadatas'], top_records['ids'], top_records['embeddings']):\n",
    "    print(f\"---\")\n",
    "    print(f\"ID: {doc_id}\")\n",
    "    print(f\"Metadata: {metadata}\")\n",
    "    print(f\"Content: {doc[:50]}...\") # Print a truncated version of the document\n",
    "    print(f\"embeddings: {embed}\")"
   ]
  },
  {
   "cell_type": "markdown",
   "id": "886dfb00",
   "metadata": {},
   "source": [
    "---"
   ]
  },
  {
   "cell_type": "code",
   "execution_count": 6,
   "id": "a85864eb",
   "metadata": {},
   "outputs": [
    {
     "name": "stdout",
     "output_type": "stream",
     "text": [
      "Usually, respiratory disease will affect most of us during winter due to the cold air, flu season, and more indoor pollution. Have ever imagined that summer heat could take a toll on your respiratory health? For individuals with asthma, chronic obstructive pulmonary disease (COPD), bronchitis, or other lung conditions, the hot and humid summer air can act as a silent trigger, this will worsen the situation and even breathing becomes harder. Further, this blog will unclose how summer heat disturbs the respiratory system and what you can do to protect yourself. Why is summer heat a problem for respiratory health?\n"
     ]
    }
   ],
   "source": [
    "text = doc_chunks.at[0,'chunk']\n",
    "print(text)"
   ]
  },
  {
   "cell_type": "code",
   "execution_count": null,
   "id": "034b5eaf",
   "metadata": {},
   "outputs": [
    {
     "name": "stdout",
     "output_type": "stream",
     "text": [
      "Length of embedding: 768\n"
     ]
    }
   ],
   "source": [
    "client_test = genai.Client(api_key=\"YOUR_API_KEY\")\n",
    "\n",
    "result = client_test.models.embed_content(\n",
    "    model=\"gemini-embedding-001\",\n",
    "    contents=text,\n",
    "    config=types.EmbedContentConfig(output_dimensionality=768)\n",
    ")\n",
    "\n",
    "[embedding_obj] = result.embeddings\n",
    "embedding_length = len(embedding_obj.values)\n",
    "\n",
    "print(f\"Length of embedding: {embedding_length}\")"
   ]
  }
 ],
 "metadata": {
  "kernelspec": {
   "display_name": "Python 3",
   "language": "python",
   "name": "python3"
  },
  "language_info": {
   "codemirror_mode": {
    "name": "ipython",
    "version": 3
   },
   "file_extension": ".py",
   "mimetype": "text/x-python",
   "name": "python",
   "nbconvert_exporter": "python",
   "pygments_lexer": "ipython3",
   "version": "3.11.11"
  }
 },
 "nbformat": 4,
 "nbformat_minor": 5
}
