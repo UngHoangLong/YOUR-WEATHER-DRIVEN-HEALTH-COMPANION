{
 "cells": [
  {
   "cell_type": "code",
   "execution_count": 6,
   "id": "dea7fecb",
   "metadata": {},
   "outputs": [],
   "source": [
    "from redis import Redis\n",
    "from rq import Queue\n",
    "import uuid\n",
    "import json\n"
   ]
  },
  {
   "cell_type": "code",
   "execution_count": 12,
   "id": "e0938551",
   "metadata": {},
   "outputs": [],
   "source": [
    "# Kết nối tới Redis (chung cho tất cả queue)\n",
    "redis_conn = Redis(host=\"103.133.224.14\", port=6379, db=0)\n",
    "\n",
    "# Khởi tạo 3 queue với tên riêng biệt\n",
    "queue_data = Queue(\"queue_data\", connection=redis_conn)\n",
    "queue_chatbot = Queue(\"queue_chatbot\", connection=redis_conn)\n",
    "queue_passive_suggestion = Queue(\"queue_passive_suggestion\", connection=redis_conn)"
   ]
  },
  {
   "cell_type": "code",
   "execution_count": 13,
   "id": "63bf89f5",
   "metadata": {},
   "outputs": [
    {
     "name": "stdout",
     "output_type": "stream",
     "text": [
      "Job pushed: {'job_id': '36f2487a-353f-42d2-8abe-1bf54ba956ab', 'city_id': 1580578, 'longitude': 106.666672, 'latitude': 10.83333}\n"
     ]
    }
   ],
   "source": [
    "# Tạo job payload\n",
    "job_data = {\n",
    "    \"job_id\": str(uuid.uuid4()),\n",
    "    \"city_id\": 1580578,\n",
    "    \"longitude\": 106.666672,\n",
    "    \"latitude\": 10.83333,\n",
    "}\n",
    "\n",
    "# Đẩy job vào Redis list\n",
    "redis_conn.rpush(\"queue_data\", json.dumps(job_data))\n",
    "\n",
    "print(\"Job pushed:\", job_data)"
   ]
  }
 ],
 "metadata": {
  "kernelspec": {
   "display_name": "Python 3",
   "language": "python",
   "name": "python3"
  },
  "language_info": {
   "codemirror_mode": {
    "name": "ipython",
    "version": 3
   },
   "file_extension": ".py",
   "mimetype": "text/x-python",
   "name": "python",
   "nbconvert_exporter": "python",
   "pygments_lexer": "ipython3",
   "version": "3.11.11"
  }
 },
 "nbformat": 4,
 "nbformat_minor": 5
}
